{
  "nbformat": 4,
  "nbformat_minor": 0,
  "metadata": {
    "colab": {
      "provenance": []
    },
    "kernelspec": {
      "name": "python3",
      "display_name": "Python 3"
    },
    "language_info": {
      "name": "python"
    }
  },
  "cells": [
    {
      "cell_type": "markdown",
      "source": [
        "Method 1"
      ],
      "metadata": {
        "id": "etUYJLhLeQwe"
      }
    },
    {
      "cell_type": "code",
      "execution_count": 1,
      "metadata": {
        "colab": {
          "base_uri": "https://localhost:8080/"
        },
        "id": "oUPePkcRdTTV",
        "outputId": "0bef52e7-0ea5-4995-9ca1-7c5cfe6d910c"
      },
      "outputs": [
        {
          "output_type": "stream",
          "name": "stdout",
          "text": [
            "Enter number:12345\n",
            "Reversed Number: 54321\n"
          ]
        }
      ],
      "source": [
        "n=int(input('Enter number:'))\n",
        "reverse=0\n",
        "while n!=0:\n",
        "  reverse= reverse*10 + n%10   #n%10 ->To extract last elements of n\n",
        "  n = n//10   # To remove last element from n\n",
        "print('Reversed Number:',reverse)"
      ]
    },
    {
      "cell_type": "markdown",
      "source": [
        "Method 2"
      ],
      "metadata": {
        "id": "_I3GAPpaeTvw"
      }
    },
    {
      "cell_type": "code",
      "source": [
        "n=int(input('Enter number:'))\n",
        "s=int(str(n)[::-1])   # 1st converting integer to string than reversing the string using string slicing than converting string back to integer\n",
        "print('Reversed number:',s)"
      ],
      "metadata": {
        "colab": {
          "base_uri": "https://localhost:8080/"
        },
        "id": "uPUfdX1YePwm",
        "outputId": "9327625a-4810-40d5-c2b4-679a89c6bc3a"
      },
      "execution_count": 2,
      "outputs": [
        {
          "output_type": "stream",
          "name": "stdout",
          "text": [
            "Enter number:45673\n",
            "Reversed number: 37654\n"
          ]
        }
      ]
    }
  ]
}